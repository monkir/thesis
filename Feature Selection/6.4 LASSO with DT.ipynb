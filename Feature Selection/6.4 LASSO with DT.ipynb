{
 "cells": [
  {
   "cell_type": "code",
   "execution_count": 1,
   "metadata": {},
   "outputs": [],
   "source": [
    "import pandas as pd\n",
    "import numpy as np\n",
    "import os\n",
    "import pickle"
   ]
  },
  {
   "cell_type": "code",
   "execution_count": 2,
   "metadata": {},
   "outputs": [],
   "source": [
    "def pickle_load(dir, filename):\n",
    "  # open a file, where you stored the pickled data\n",
    "  file = open(os.path.join(dir,filename), 'rb')\n",
    "\n",
    "  # dump information to that file\n",
    "  data = pickle.load(file)\n",
    "\n",
    "  # close the file\n",
    "  file.close()\n",
    "  return data"
   ]
  },
  {
   "cell_type": "code",
   "execution_count": 3,
   "metadata": {},
   "outputs": [
    {
     "name": "stdout",
     "output_type": "stream",
     "text": [
      "(5000, 1025) (1000, 1025)\n"
     ]
    }
   ],
   "source": [
    "train_features_with_label = pd.read_csv(\"train_features_with_label.csv\")\n",
    "test_features_with_label = pd.read_csv(\"test_features_with_label.csv\")\n",
    "print(train_features_with_label.shape, test_features_with_label.shape)"
   ]
  },
  {
   "cell_type": "code",
   "execution_count": 4,
   "metadata": {},
   "outputs": [
    {
     "name": "stdout",
     "output_type": "stream",
     "text": [
      "(5000, 1024) (5000,)\n",
      "(1000, 1024) (1000,)\n"
     ]
    }
   ],
   "source": [
    "train_features = np.array(train_features_with_label)[:,:-1]\n",
    "train_label = np.array(train_features_with_label)[:,-1]\n",
    "\n",
    "test_features = np.array(test_features_with_label)[:,:-1]\n",
    "test_label = np.array(test_features_with_label)[:,-1]\n",
    "\n",
    "print(train_features.shape, train_label.shape)\n",
    "print(test_features.shape, test_label.shape)"
   ]
  },
  {
   "cell_type": "code",
   "execution_count": 6,
   "metadata": {},
   "outputs": [],
   "source": [
    "from sklearn.feature_selection import SelectFromModel\n",
    "from sklearn.linear_model import Lasso, LogisticRegression\n",
    "from sklearn.tree import DecisionTreeClassifier\n",
    "from sklearn.model_selection import train_test_split\n",
    "from sklearn.metrics import accuracy_score"
   ]
  },
  {
   "cell_type": "code",
   "execution_count": 11,
   "metadata": {},
   "outputs": [
    {
     "name": "stderr",
     "output_type": "stream",
     "text": [
      "c:\\Users\\monki\\anaconda3\\envs\\tf-keras-2\\lib\\site-packages\\sklearn\\linear_model\\_coordinate_descent.py:631: ConvergenceWarning: Objective did not converge. You might want to increase the number of iterations, check the scale of the features or consider increasing regularisation. Duality gap: 1.488e+04, tolerance: 4.092e+00\n",
      "  model = cd_fast.enet_coordinate_descent(\n"
     ]
    },
    {
     "name": "stdout",
     "output_type": "stream",
     "text": [
      "Accuracy: 0.107\n"
     ]
    }
   ],
   "source": [
    "# Create a Decision Tree classifier\n",
    "dt_classifier = DecisionTreeClassifier()\n",
    "\n",
    "# Create an RFE model for feature selection\n",
    "# Here, we'll select the top 2 features based on the Decision Tree classifier\n",
    "# rfe = RFE(estimator=dt_classifier, n_features_to_select=900, step=2, verbose=1)\n",
    "\n",
    "lasso = Lasso(alpha=0.001, random_state=10)\n",
    "sfm = SelectFromModel(estimator=lasso, max_features=900)\n",
    "\n",
    "# Fit RFE and transform the data\n",
    "train_features_rfe = sfm.fit_transform(train_features, train_label)\n",
    "test_features_rfe = sfm.transform(test_features)\n",
    "\n",
    "# Fit the Decision Tree classifier on the selected features\n",
    "dt_classifier.fit(train_features_rfe, train_label)\n",
    "\n",
    "# Make predictions on the test set\n",
    "test_pred = dt_classifier.predict(test_features_rfe)\n",
    "\n",
    "# Calculate and print the accuracy\n",
    "accuracy = accuracy_score(test_label, test_pred)\n",
    "print(\"Accuracy:\", accuracy)"
   ]
  }
 ],
 "metadata": {
  "kernelspec": {
   "display_name": "tf-keras-2",
   "language": "python",
   "name": "python3"
  },
  "language_info": {
   "codemirror_mode": {
    "name": "ipython",
    "version": 3
   },
   "file_extension": ".py",
   "mimetype": "text/x-python",
   "name": "python",
   "nbconvert_exporter": "python",
   "pygments_lexer": "ipython3",
   "version": "3.9.16"
  }
 },
 "nbformat": 4,
 "nbformat_minor": 2
}
