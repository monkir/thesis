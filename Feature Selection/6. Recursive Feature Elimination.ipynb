{
 "cells": [
  {
   "cell_type": "code",
   "execution_count": 1,
   "metadata": {},
   "outputs": [],
   "source": [
    "import pandas as pd\n",
    "import numpy as np\n",
    "import os\n",
    "import pickle"
   ]
  },
  {
   "cell_type": "code",
   "execution_count": 2,
   "metadata": {},
   "outputs": [],
   "source": [
    "def pickle_load(dir, filename):\n",
    "  # open a file, where you stored the pickled data\n",
    "  file = open(os.path.join(dir,filename), 'rb')\n",
    "\n",
    "  # dump information to that file\n",
    "  data = pickle.load(file)\n",
    "\n",
    "  # close the file\n",
    "  file.close()\n",
    "  return data"
   ]
  },
  {
   "cell_type": "code",
   "execution_count": 3,
   "metadata": {},
   "outputs": [],
   "source": [
    "data = pd.read_csv(\"predictions 3.2.csv\")\n",
    "label = pickle_load(\"\", \"test_data_y.pk\")"
   ]
  },
  {
   "cell_type": "code",
   "execution_count": 4,
   "metadata": {},
   "outputs": [
    {
     "name": "stdout",
     "output_type": "stream",
     "text": [
      "(1000, 513) (1000,)\n"
     ]
    }
   ],
   "source": [
    "data = np.array(data)\n",
    "label = np.array(label)\n",
    "print(data.shape, label.shape)"
   ]
  },
  {
   "cell_type": "code",
   "execution_count": 5,
   "metadata": {},
   "outputs": [
    {
     "name": "stdout",
     "output_type": "stream",
     "text": [
      "(1000, 512) (1000,)\n"
     ]
    }
   ],
   "source": [
    "# Deleting first colum (Data serial)\n",
    "data = data[:, 1:]\n",
    "print(data.shape, label.shape)"
   ]
  },
  {
   "cell_type": "code",
   "execution_count": 6,
   "metadata": {},
   "outputs": [],
   "source": [
    "# applying Information Gain\n",
    "from sklearn.feature_selection import RFE\n",
    "from sklearn.ensemble import RandomForestClassifier\n",
    "rfe = RFE(RandomForestClassifier(n_estimators=10, random_state=10),\n",
    "    n_features_to_select=200)\n",
    "importance = rfe.fit(data, label)"
   ]
  },
  {
   "cell_type": "code",
   "execution_count": 7,
   "metadata": {},
   "outputs": [
    {
     "name": "stdout",
     "output_type": "stream",
     "text": [
      "[False False  True False  True  True False False False False False False\n",
      "  True False  True False False  True False  True False  True False False\n",
      " False False False False  True False  True False False False False False\n",
      " False False False False False  True  True  True  True False  True  True\n",
      "  True  True False  True  True False False  True False False  True  True\n",
      " False False False False False False False  True False  True  True  True\n",
      "  True  True False  True False False False False False False  True False\n",
      "  True False False False  True  True False False  True  True  True  True\n",
      "  True False  True  True False  True  True False False  True  True False\n",
      "  True False  True False False  True False False  True  True  True  True\n",
      "  True False False  True  True False False False False False False False\n",
      " False  True False False False False False False False False  True  True\n",
      " False False  True False  True False False False False False  True  True\n",
      " False  True False  True False False False  True  True False  True False\n",
      "  True False  True False  True  True False False False False  True False\n",
      "  True False  True False False  True  True False False False False False\n",
      " False  True  True False  True False False  True False False  True False\n",
      " False False False  True False  True  True False  True  True  True  True\n",
      " False False  True False False False  True  True False False  True  True\n",
      " False  True False  True False False False False False  True False False\n",
      "  True False  True False False False  True False False False  True False\n",
      " False False False  True False False  True  True False False  True  True\n",
      "  True False  True  True False False False  True False False False False\n",
      " False  True False False False False False  True False False False False\n",
      " False  True False False False False  True False False False  True False\n",
      " False False False  True  True False False  True False False False False\n",
      " False  True False  True False False False  True  True  True False False\n",
      " False False  True False  True False  True False False False  True False\n",
      " False False  True False False False False  True False False False  True\n",
      " False False False False  True False False  True  True False False  True\n",
      " False False False False False  True False  True  True  True  True  True\n",
      "  True False  True False False  True False  True  True  True False False\n",
      " False  True False False False False  True False False False  True  True\n",
      " False False  True False False False  True False False  True False False\n",
      "  True False  True False  True False  True False False  True False  True\n",
      " False False False False False  True  True False  True False False  True\n",
      "  True False  True  True False False  True  True  True  True False False\n",
      "  True  True  True False  True False False False False False  True  True\n",
      "  True False  True False False False False  True False  True False False\n",
      " False  True  True  True  True False  True  True False  True False False\n",
      " False  True False False  True  True  True  True False  True False False\n",
      " False False False  True  True  True  True False False False  True  True\n",
      " False False False False False False  True  True]\n",
      "[ 78 214   1 220   1   1 184 172 194 201 211  74   1 304   1 268 151   1\n",
      " 305   1   3   1 147  29 291 173  51 170   1 248   1 225 243 166  73  54\n",
      " 299 134 197 293  88   1   1   1   1 182   1   1   1   1  15   1   1  12\n",
      " 169   1 142 261   1   1 122 208 111 125 158 191 200   1 218   1   1   1\n",
      "   1   1 238   1  30 255 202  14 112 177   1  53   1  85 109 263   1   1\n",
      " 124 153   1   1   1   1   1 253   1   1 309   1   1  21 103   1   1   8\n",
      "   1  31   1 113 110   1  65 144   1   1   1   1   1  60 127   1   1 101\n",
      " 133 199 260  95 192  25 221   1 213 195 198  34 187 209 223  90   1   1\n",
      " 256 123   1  89   1  56 100 160 262   6   1   1 251   1 258   1  20  59\n",
      " 284   1   1 105   1 232   1 292   1 104   1   1  80 240 102  91   1 203\n",
      "   1  11   1  36  17   1   1 119 115   9  48  42 281   1   1 306   1 272\n",
      " 108   1 308 217   1 138  10 235 137   1 140   1   1 185   1   1   1   1\n",
      " 120 180   1  81 224 117   1   1 189  63   1   1 219   1 266   1 154 179\n",
      " 135 143 252   1  70  96   1  99   1 275  62  68   1 273  98 130   1 129\n",
      " 181 227  13   1 132 128   1   1   4 161   1   1   1 257   1   1 152  72\n",
      " 282   1  67 233 228 307 204   1 206 131 165 313 270   1  35  28 215 157\n",
      "  92   1 264 212 280 176   1  71 107 126   1 141  23 278  19   1   1 274\n",
      " 247   1  41   7  97 249 259   1 167   1 239 265 139   1   1   1  93 296\n",
      "  40 150   1  43   1 188   1 237 193 286   1  47  83 242   1 186 230  16\n",
      " 168   1 136  50  33   1 216  86 302 290   1  38 116   1   1 250 245   1\n",
      "  22 301 226 149 229   1 244   1   1   1   1   1   1 285   1 289 298   1\n",
      " 121   1   1   1  57  61  79   1 114 297 183  24   1 118 156 267   1   1\n",
      "  75  46   1  26 231 279   1 148 222   1 234 277   1 207   1 312   1 310\n",
      "   1   5  76   1  94   1 311  52 246  58  66   1   1 164   1 300  39   1\n",
      "   1 287   1   1 196 288   1   1   1   1 146  84   1   1   1 190   1 174\n",
      "  77 210 106 171   1   1   1  37   1  64  69 236 145   1 159   1 271 162\n",
      " 294   1   1   1   1  32   1   1  82   1  27 283   2   1 175 254   1   1\n",
      "   1   1 303   1  45  49 241 276 205   1   1   1   1 155  44 163   1   1\n",
      "  87 269  18  55 178 295   1   1]\n"
     ]
    }
   ],
   "source": [
    "print(rfe.support_)\n",
    "\n",
    "print(rfe.ranking_)"
   ]
  },
  {
   "cell_type": "code",
   "execution_count": 8,
   "metadata": {},
   "outputs": [
    {
     "data": {
      "image/png": "[encoded data removed]",
      "text/plain": [
       "<Figure size 1500x500 with 1 Axes>"
      ]
     },
     "metadata": {},
     "output_type": "display_data"
    }
   ],
   "source": [
    "import matplotlib.pyplot as plt\n",
    "\n",
    "plt.figure(figsize=(15,5))\n",
    "plt.plot()\n",
    "plt.style.use('_mpl-gallery')\n",
    "\n",
    "# make data:\n",
    "x = 0.5 + np.arange(len(rfe.ranking_))\n",
    "\n",
    "# plot\n",
    "# fig, ax = plt.subplots()\n",
    "\n",
    "plt.bar(x, rfe.ranking_[:], width=1, edgecolor=\"white\", linewidth=0.7)\n",
    "\n",
    "# ax.set(xlim=(0, 8), xticks=np.arange(1, 10),\n",
    "#        ylim=(0, 1), yticks=np.arange(1, 10))\n",
    "\n",
    "plt.show()"
   ]
  }
 ],
 "metadata": {
  "kernelspec": {
   "display_name": "tf-keras-2",
   "language": "python",
   "name": "python3"
  },
  "language_info": {
   "codemirror_mode": {
    "name": "ipython",
    "version": 3
   },
   "file_extension": ".py",
   "mimetype": "text/x-python",
   "name": "python",
   "nbconvert_exporter": "python",
   "pygments_lexer": "ipython3",
   "version": "3.9.16"
  }
 },
 "nbformat": 4,
 "nbformat_minor": 2
}
