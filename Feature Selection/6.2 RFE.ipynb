{
 "cells": [
  {
   "cell_type": "code",
   "execution_count": 1,
   "metadata": {},
   "outputs": [],
   "source": [
    "import pandas as pd\n",
    "import numpy as np\n",
    "import os\n",
    "import pickle"
   ]
  },
  {
   "cell_type": "code",
   "execution_count": 2,
   "metadata": {},
   "outputs": [],
   "source": [
    "def pickle_load(dir, filename):\n",
    "  # open a file, where you stored the pickled data\n",
    "  file = open(os.path.join(dir,filename), 'rb')\n",
    "\n",
    "  # dump information to that file\n",
    "  data = pickle.load(file)\n",
    "\n",
    "  # close the file\n",
    "  file.close()\n",
    "  return data"
   ]
  },
  {
   "cell_type": "code",
   "execution_count": 3,
   "metadata": {},
   "outputs": [
    {
     "name": "stdout",
     "output_type": "stream",
     "text": [
      "(5000, 1025) (1000, 1025)\n"
     ]
    }
   ],
   "source": [
    "train_features_with_label = pd.read_csv(\"train_features_with_label.csv\")\n",
    "test_features_with_label = pd.read_csv(\"test_features_with_label.csv\")\n",
    "print(train_features_with_label.shape, test_features_with_label.shape)"
   ]
  },
  {
   "cell_type": "code",
   "execution_count": 4,
   "metadata": {},
   "outputs": [
    {
     "name": "stdout",
     "output_type": "stream",
     "text": [
      "(5000, 1024) (5000,)\n",
      "(1000, 1024) (1000,)\n"
     ]
    }
   ],
   "source": [
    "train_features = np.array(train_features_with_label)[:,:-1]\n",
    "train_label = np.array(train_features_with_label)[:,-1]\n",
    "\n",
    "test_features = np.array(test_features_with_label)[:,:-1]\n",
    "test_label = np.array(test_features_with_label)[:,-1]\n",
    "\n",
    "print(train_features.shape, train_label.shape)\n",
    "print(test_features.shape, test_label.shape)"
   ]
  },
  {
   "cell_type": "code",
   "execution_count": 5,
   "metadata": {},
   "outputs": [
    {
     "name": "stdout",
     "output_type": "stream",
     "text": [
      "Fitting estimator with 1024 features.\n",
      "Fitting estimator with 1023 features.\n",
      "Fitting estimator with 1022 features.\n",
      "Fitting estimator with 1021 features.\n",
      "Fitting estimator with 1020 features.\n",
      "Fitting estimator with 1019 features.\n",
      "Fitting estimator with 1018 features.\n",
      "Fitting estimator with 1017 features.\n",
      "Fitting estimator with 1016 features.\n",
      "Fitting estimator with 1015 features.\n",
      "Fitting estimator with 1014 features.\n",
      "Fitting estimator with 1013 features.\n",
      "Fitting estimator with 1012 features.\n",
      "Fitting estimator with 1011 features.\n",
      "Fitting estimator with 1010 features.\n",
      "Fitting estimator with 1009 features.\n",
      "Fitting estimator with 1008 features.\n",
      "Fitting estimator with 1007 features.\n",
      "Fitting estimator with 1006 features.\n",
      "Fitting estimator with 1005 features.\n",
      "Fitting estimator with 1004 features.\n",
      "Fitting estimator with 1003 features.\n",
      "Fitting estimator with 1002 features.\n",
      "Fitting estimator with 1001 features.\n",
      "Fitting estimator with 1000 features.\n",
      "Fitting estimator with 999 features.\n",
      "Fitting estimator with 998 features.\n",
      "Fitting estimator with 997 features.\n",
      "Fitting estimator with 996 features.\n",
      "Fitting estimator with 995 features.\n",
      "Fitting estimator with 994 features.\n",
      "Fitting estimator with 993 features.\n",
      "Fitting estimator with 992 features.\n",
      "Fitting estimator with 991 features.\n",
      "Fitting estimator with 990 features.\n",
      "Fitting estimator with 989 features.\n",
      "Fitting estimator with 988 features.\n",
      "Fitting estimator with 987 features.\n",
      "Fitting estimator with 986 features.\n",
      "Fitting estimator with 985 features.\n",
      "Fitting estimator with 984 features.\n",
      "Fitting estimator with 983 features.\n",
      "Fitting estimator with 982 features.\n",
      "Fitting estimator with 981 features.\n",
      "Fitting estimator with 980 features.\n",
      "Fitting estimator with 979 features.\n",
      "Fitting estimator with 978 features.\n",
      "Fitting estimator with 977 features.\n",
      "Fitting estimator with 976 features.\n",
      "Fitting estimator with 975 features.\n",
      "Fitting estimator with 974 features.\n",
      "Fitting estimator with 973 features.\n",
      "Fitting estimator with 972 features.\n",
      "Fitting estimator with 971 features.\n",
      "Fitting estimator with 970 features.\n",
      "Fitting estimator with 969 features.\n",
      "Fitting estimator with 968 features.\n",
      "Fitting estimator with 967 features.\n",
      "Fitting estimator with 966 features.\n",
      "Fitting estimator with 965 features.\n",
      "Fitting estimator with 964 features.\n",
      "Fitting estimator with 963 features.\n",
      "Fitting estimator with 962 features.\n",
      "Fitting estimator with 961 features.\n",
      "Fitting estimator with 960 features.\n",
      "Fitting estimator with 959 features.\n",
      "Fitting estimator with 958 features.\n",
      "Fitting estimator with 957 features.\n",
      "Fitting estimator with 956 features.\n",
      "Fitting estimator with 955 features.\n",
      "Fitting estimator with 954 features.\n",
      "Fitting estimator with 953 features.\n",
      "Fitting estimator with 952 features.\n",
      "Fitting estimator with 951 features.\n",
      "Fitting estimator with 950 features.\n",
      "Fitting estimator with 949 features.\n",
      "Fitting estimator with 948 features.\n",
      "Fitting estimator with 947 features.\n",
      "Fitting estimator with 946 features.\n",
      "Fitting estimator with 945 features.\n",
      "Fitting estimator with 944 features.\n",
      "Fitting estimator with 943 features.\n",
      "Fitting estimator with 942 features.\n",
      "Fitting estimator with 941 features.\n",
      "Fitting estimator with 940 features.\n",
      "Fitting estimator with 939 features.\n",
      "Fitting estimator with 938 features.\n",
      "Fitting estimator with 937 features.\n",
      "Fitting estimator with 936 features.\n",
      "Fitting estimator with 935 features.\n",
      "Fitting estimator with 934 features.\n",
      "Fitting estimator with 933 features.\n",
      "Fitting estimator with 932 features.\n",
      "Fitting estimator with 931 features.\n",
      "Fitting estimator with 930 features.\n",
      "Fitting estimator with 929 features.\n",
      "Fitting estimator with 928 features.\n",
      "Fitting estimator with 927 features.\n",
      "Fitting estimator with 926 features.\n",
      "Fitting estimator with 925 features.\n",
      "Fitting estimator with 924 features.\n",
      "Fitting estimator with 923 features.\n",
      "Fitting estimator with 922 features.\n",
      "Fitting estimator with 921 features.\n",
      "Fitting estimator with 920 features.\n",
      "Fitting estimator with 919 features.\n",
      "Fitting estimator with 918 features.\n",
      "Fitting estimator with 917 features.\n",
      "Fitting estimator with 916 features.\n",
      "Fitting estimator with 915 features.\n",
      "Fitting estimator with 914 features.\n",
      "Fitting estimator with 913 features.\n",
      "Fitting estimator with 912 features.\n",
      "Fitting estimator with 911 features.\n",
      "Fitting estimator with 910 features.\n",
      "Fitting estimator with 909 features.\n",
      "Fitting estimator with 908 features.\n",
      "Fitting estimator with 907 features.\n",
      "Fitting estimator with 906 features.\n",
      "Fitting estimator with 905 features.\n",
      "Fitting estimator with 904 features.\n",
      "Fitting estimator with 903 features.\n",
      "Fitting estimator with 902 features.\n",
      "Fitting estimator with 901 features.\n",
      "Fitting estimator with 900 features.\n",
      "Fitting estimator with 899 features.\n",
      "Fitting estimator with 898 features.\n",
      "Fitting estimator with 897 features.\n",
      "Fitting estimator with 896 features.\n",
      "Fitting estimator with 895 features.\n",
      "Fitting estimator with 894 features.\n",
      "Fitting estimator with 893 features.\n",
      "Fitting estimator with 892 features.\n",
      "Fitting estimator with 891 features.\n",
      "Fitting estimator with 890 features.\n",
      "Fitting estimator with 889 features.\n",
      "Fitting estimator with 888 features.\n",
      "Fitting estimator with 887 features.\n",
      "Fitting estimator with 886 features.\n",
      "Fitting estimator with 885 features.\n",
      "Fitting estimator with 884 features.\n",
      "Fitting estimator with 883 features.\n",
      "Fitting estimator with 882 features.\n",
      "Fitting estimator with 881 features.\n",
      "Fitting estimator with 880 features.\n",
      "Fitting estimator with 879 features.\n",
      "Fitting estimator with 878 features.\n",
      "Fitting estimator with 877 features.\n",
      "Fitting estimator with 876 features.\n",
      "Fitting estimator with 875 features.\n",
      "Fitting estimator with 874 features.\n",
      "Fitting estimator with 873 features.\n",
      "Fitting estimator with 872 features.\n",
      "Fitting estimator with 871 features.\n",
      "Fitting estimator with 870 features.\n",
      "Fitting estimator with 869 features.\n",
      "Fitting estimator with 868 features.\n",
      "Fitting estimator with 867 features.\n",
      "Fitting estimator with 866 features.\n",
      "Fitting estimator with 865 features.\n",
      "Fitting estimator with 864 features.\n",
      "Fitting estimator with 863 features.\n",
      "Fitting estimator with 862 features.\n",
      "Fitting estimator with 861 features.\n",
      "Fitting estimator with 860 features.\n",
      "Fitting estimator with 859 features.\n",
      "Fitting estimator with 858 features.\n",
      "Fitting estimator with 857 features.\n",
      "Fitting estimator with 856 features.\n",
      "Fitting estimator with 855 features.\n",
      "Fitting estimator with 854 features.\n",
      "Fitting estimator with 853 features.\n",
      "Fitting estimator with 852 features.\n",
      "Fitting estimator with 851 features.\n",
      "Fitting estimator with 850 features.\n",
      "Fitting estimator with 849 features.\n",
      "Fitting estimator with 848 features.\n",
      "Fitting estimator with 847 features.\n",
      "Fitting estimator with 846 features.\n",
      "Fitting estimator with 845 features.\n",
      "Fitting estimator with 844 features.\n",
      "Fitting estimator with 843 features.\n",
      "Fitting estimator with 842 features.\n",
      "Fitting estimator with 841 features.\n",
      "Fitting estimator with 840 features.\n",
      "Fitting estimator with 839 features.\n",
      "Fitting estimator with 838 features.\n",
      "Fitting estimator with 837 features.\n",
      "Fitting estimator with 836 features.\n",
      "Fitting estimator with 835 features.\n",
      "Fitting estimator with 834 features.\n",
      "Fitting estimator with 833 features.\n",
      "Fitting estimator with 832 features.\n",
      "Fitting estimator with 831 features.\n",
      "Fitting estimator with 830 features.\n",
      "Fitting estimator with 829 features.\n",
      "Fitting estimator with 828 features.\n",
      "Fitting estimator with 827 features.\n",
      "Fitting estimator with 826 features.\n",
      "Fitting estimator with 825 features.\n",
      "Fitting estimator with 824 features.\n",
      "Fitting estimator with 823 features.\n",
      "Fitting estimator with 822 features.\n",
      "Fitting estimator with 821 features.\n",
      "Fitting estimator with 820 features.\n",
      "Fitting estimator with 819 features.\n",
      "Fitting estimator with 818 features.\n",
      "Fitting estimator with 817 features.\n",
      "Fitting estimator with 816 features.\n",
      "Fitting estimator with 815 features.\n",
      "Fitting estimator with 814 features.\n",
      "Fitting estimator with 813 features.\n",
      "Fitting estimator with 812 features.\n",
      "Fitting estimator with 811 features.\n",
      "Fitting estimator with 810 features.\n",
      "Fitting estimator with 809 features.\n",
      "Fitting estimator with 808 features.\n",
      "Fitting estimator with 807 features.\n",
      "Fitting estimator with 806 features.\n",
      "Fitting estimator with 805 features.\n",
      "Fitting estimator with 804 features.\n",
      "Fitting estimator with 803 features.\n",
      "Fitting estimator with 802 features.\n",
      "Fitting estimator with 801 features.\n"
     ]
    }
   ],
   "source": [
    "# applying Information Gain\n",
    "from sklearn.feature_selection import RFE\n",
    "from sklearn.ensemble import RandomForestClassifier\n",
    "\n",
    "est = RandomForestClassifier(n_estimators=10, random_state=10)\n",
    "rfe = RFE(estimator=est,n_features_to_select=800, verbose=1)\n",
    "selector = rfe.fit(train_features, train_label)"
   ]
  },
  {
   "cell_type": "code",
   "execution_count": 6,
   "metadata": {},
   "outputs": [
    {
     "name": "stdout",
     "output_type": "stream",
     "text": [
      "(1000, 800)\n"
     ]
    }
   ],
   "source": [
    "selected_test_features = selector.transform(test_features)\n",
    "print(selected_test_features.shape)"
   ]
  },
  {
   "cell_type": "code",
   "execution_count": 8,
   "metadata": {},
   "outputs": [],
   "source": [
    "pred = selector.predict(test_features)"
   ]
  },
  {
   "cell_type": "code",
   "execution_count": 9,
   "metadata": {},
   "outputs": [
    {
     "name": "stdout",
     "output_type": "stream",
     "text": [
      "(1000,) (1000,)\n"
     ]
    }
   ],
   "source": [
    "print(pred.shape, test_label.shape)"
   ]
  },
  {
   "cell_type": "code",
   "execution_count": 10,
   "metadata": {},
   "outputs": [
    {
     "name": "stdout",
     "output_type": "stream",
     "text": [
      "Accuracy: 8.30%\n"
     ]
    }
   ],
   "source": [
    "from sklearn.metrics import accuracy_score\n",
    "accuracy = accuracy_score(test_label, pred)\n",
    "print(f\"Accuracy: {accuracy * 100:.2f}%\")"
   ]
  },
  {
   "cell_type": "code",
   "execution_count": 11,
   "metadata": {},
   "outputs": [
    {
     "name": "stdout",
     "output_type": "stream",
     "text": [
      "[ True  True  True ... False  True  True]\n",
      "[ 1  1  1 ... 83  1  1]\n"
     ]
    }
   ],
   "source": [
    "print(selector.support_)\n",
    "\n",
    "print(selector.ranking_)"
   ]
  },
  {
   "cell_type": "code",
   "execution_count": 12,
   "metadata": {},
   "outputs": [
    {
     "data": {
      "image/png": "[encoded data removed]",
      "text/plain": [
       "<Figure size 1500x500 with 1 Axes>"
      ]
     },
     "metadata": {},
     "output_type": "display_data"
    }
   ],
   "source": [
    "import matplotlib.pyplot as plt\n",
    "\n",
    "plt.figure(figsize=(15,5))\n",
    "plt.plot()\n",
    "plt.style.use('_mpl-gallery')\n",
    "\n",
    "# make data:\n",
    "x = 0.5 + np.arange(len(selector.ranking_))\n",
    "\n",
    "# plot\n",
    "# fig, ax = plt.subplots()\n",
    "\n",
    "plt.bar(x, selector.ranking_[:], width=1, edgecolor=\"white\", linewidth=0.7)\n",
    "\n",
    "# ax.set(xlim=(0, 8), xticks=np.arange(1, 10),\n",
    "#        ylim=(0, 1), yticks=np.arange(1, 10))\n",
    "\n",
    "plt.show()"
   ]
  }
 ],
 "metadata": {
  "kernelspec": {
   "display_name": "tf-keras-2",
   "language": "python",
   "name": "python3"
  },
  "language_info": {
   "codemirror_mode": {
    "name": "ipython",
    "version": 3
   },
   "file_extension": ".py",
   "mimetype": "text/x-python",
   "name": "python",
   "nbconvert_exporter": "python",
   "pygments_lexer": "ipython3",
   "version": "3.9.16"
  }
 },
 "nbformat": 4,
 "nbformat_minor": 2
}
