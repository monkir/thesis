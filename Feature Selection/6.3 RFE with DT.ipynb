{
 "cells": [
  {
   "cell_type": "code",
   "execution_count": 1,
   "metadata": {},
   "outputs": [],
   "source": [
    "import pandas as pd\n",
    "import numpy as np\n",
    "import os\n",
    "import pickle"
   ]
  },
  {
   "cell_type": "code",
   "execution_count": 2,
   "metadata": {},
   "outputs": [],
   "source": [
    "def pickle_load(dir, filename):\n",
    "  # open a file, where you stored the pickled data\n",
    "  file = open(os.path.join(dir,filename), 'rb')\n",
    "\n",
    "  # dump information to that file\n",
    "  data = pickle.load(file)\n",
    "\n",
    "  # close the file\n",
    "  file.close()\n",
    "  return data"
   ]
  },
  {
   "cell_type": "code",
   "execution_count": 3,
   "metadata": {},
   "outputs": [
    {
     "name": "stdout",
     "output_type": "stream",
     "text": [
      "(5000, 1025) (1000, 1025)\n"
     ]
    }
   ],
   "source": [
    "train_features_with_label = pd.read_csv(\"train_features_with_label.csv\")\n",
    "test_features_with_label = pd.read_csv(\"test_features_with_label.csv\")\n",
    "print(train_features_with_label.shape, test_features_with_label.shape)"
   ]
  },
  {
   "cell_type": "code",
   "execution_count": 4,
   "metadata": {},
   "outputs": [
    {
     "name": "stdout",
     "output_type": "stream",
     "text": [
      "(5000, 1024) (5000,)\n",
      "(1000, 1024) (1000,)\n"
     ]
    }
   ],
   "source": [
    "train_features = np.array(train_features_with_label)[:,:-1]\n",
    "train_label = np.array(train_features_with_label)[:,-1]\n",
    "\n",
    "test_features = np.array(test_features_with_label)[:,:-1]\n",
    "test_label = np.array(test_features_with_label)[:,-1]\n",
    "\n",
    "print(train_features.shape, train_label.shape)\n",
    "print(test_features.shape, test_label.shape)"
   ]
  },
  {
   "cell_type": "code",
   "execution_count": 5,
   "metadata": {},
   "outputs": [],
   "source": [
    "from sklearn.feature_selection import RFE\n",
    "from sklearn.tree import DecisionTreeClassifier\n",
    "from sklearn.model_selection import train_test_split\n",
    "from sklearn.metrics import accuracy_score"
   ]
  },
  {
   "cell_type": "code",
   "execution_count": 6,
   "metadata": {},
   "outputs": [
    {
     "name": "stdout",
     "output_type": "stream",
     "text": [
      "Fitting estimator with 1024 features.\n",
      "Fitting estimator with 1022 features.\n",
      "Fitting estimator with 1020 features.\n",
      "Fitting estimator with 1018 features.\n",
      "Fitting estimator with 1016 features.\n",
      "Fitting estimator with 1014 features.\n",
      "Fitting estimator with 1012 features.\n",
      "Fitting estimator with 1010 features.\n",
      "Fitting estimator with 1008 features.\n",
      "Fitting estimator with 1006 features.\n",
      "Fitting estimator with 1004 features.\n",
      "Fitting estimator with 1002 features.\n",
      "Fitting estimator with 1000 features.\n",
      "Fitting estimator with 998 features.\n",
      "Fitting estimator with 996 features.\n",
      "Fitting estimator with 994 features.\n",
      "Fitting estimator with 992 features.\n",
      "Fitting estimator with 990 features.\n",
      "Fitting estimator with 988 features.\n",
      "Fitting estimator with 986 features.\n",
      "Fitting estimator with 984 features.\n",
      "Fitting estimator with 982 features.\n",
      "Fitting estimator with 980 features.\n",
      "Fitting estimator with 978 features.\n",
      "Fitting estimator with 976 features.\n",
      "Fitting estimator with 974 features.\n",
      "Fitting estimator with 972 features.\n",
      "Fitting estimator with 970 features.\n",
      "Fitting estimator with 968 features.\n",
      "Fitting estimator with 966 features.\n",
      "Fitting estimator with 964 features.\n",
      "Fitting estimator with 962 features.\n",
      "Fitting estimator with 960 features.\n",
      "Fitting estimator with 958 features.\n",
      "Fitting estimator with 956 features.\n",
      "Fitting estimator with 954 features.\n",
      "Fitting estimator with 952 features.\n",
      "Fitting estimator with 950 features.\n",
      "Fitting estimator with 948 features.\n",
      "Fitting estimator with 946 features.\n",
      "Fitting estimator with 944 features.\n",
      "Fitting estimator with 942 features.\n",
      "Fitting estimator with 940 features.\n",
      "Fitting estimator with 938 features.\n",
      "Fitting estimator with 936 features.\n",
      "Fitting estimator with 934 features.\n",
      "Fitting estimator with 932 features.\n",
      "Fitting estimator with 930 features.\n",
      "Fitting estimator with 928 features.\n",
      "Fitting estimator with 926 features.\n",
      "Fitting estimator with 924 features.\n",
      "Fitting estimator with 922 features.\n",
      "Fitting estimator with 920 features.\n",
      "Fitting estimator with 918 features.\n",
      "Fitting estimator with 916 features.\n",
      "Fitting estimator with 914 features.\n",
      "Fitting estimator with 912 features.\n",
      "Fitting estimator with 910 features.\n",
      "Fitting estimator with 908 features.\n",
      "Fitting estimator with 906 features.\n",
      "Fitting estimator with 904 features.\n",
      "Fitting estimator with 902 features.\n",
      "Accuracy: 0.081\n"
     ]
    }
   ],
   "source": [
    "# Create a Decision Tree classifier\n",
    "dt_classifier = DecisionTreeClassifier()\n",
    "\n",
    "# Create an RFE model for feature selection\n",
    "# Here, we'll select the top 2 features based on the Decision Tree classifier\n",
    "rfe = RFE(estimator=dt_classifier, n_features_to_select=900, step=2, verbose=1)\n",
    "\n",
    "# Fit RFE and transform the data\n",
    "train_features_rfe = rfe.fit_transform(train_features, train_label)\n",
    "test_features_rfe = rfe.transform(test_features)\n",
    "\n",
    "# Fit the Decision Tree classifier on the selected features\n",
    "dt_classifier.fit(train_features_rfe, train_label)\n",
    "\n",
    "# Make predictions on the test set\n",
    "test_pred = dt_classifier.predict(test_features_rfe)\n",
    "\n",
    "# Calculate and print the accuracy\n",
    "accuracy = accuracy_score(test_label, test_pred)\n",
    "print(\"Accuracy:\", accuracy)"
   ]
  }
 ],
 "metadata": {
  "kernelspec": {
   "display_name": "tf-keras-2",
   "language": "python",
   "name": "python3"
  },
  "language_info": {
   "codemirror_mode": {
    "name": "ipython",
    "version": 3
   },
   "file_extension": ".py",
   "mimetype": "text/x-python",
   "name": "python",
   "nbconvert_exporter": "python",
   "pygments_lexer": "ipython3",
   "version": "3.9.16"
  }
 },
 "nbformat": 4,
 "nbformat_minor": 2
}
