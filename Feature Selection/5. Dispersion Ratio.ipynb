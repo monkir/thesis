{
 "cells": [
  {
   "cell_type": "code",
   "execution_count": 1,
   "metadata": {},
   "outputs": [],
   "source": [
    "import pandas as pd\n",
    "import numpy as np\n",
    "import os\n",
    "import pickle"
   ]
  },
  {
   "cell_type": "code",
   "execution_count": 2,
   "metadata": {},
   "outputs": [],
   "source": [
    "def pickle_load(dir, filename):\n",
    "  # open a file, where you stored the pickled data\n",
    "  file = open(os.path.join(dir,filename), 'rb')\n",
    "\n",
    "  # dump information to that file\n",
    "  data = pickle.load(file)\n",
    "\n",
    "  # close the file\n",
    "  file.close()\n",
    "  return data"
   ]
  },
  {
   "cell_type": "code",
   "execution_count": 3,
   "metadata": {},
   "outputs": [],
   "source": [
    "data = pd.read_csv(\"predictions 3.2.csv\")\n",
    "label = pickle_load(\"\", \"test_data_y.pk\")"
   ]
  },
  {
   "cell_type": "code",
   "execution_count": 4,
   "metadata": {},
   "outputs": [
    {
     "name": "stdout",
     "output_type": "stream",
     "text": [
      "(1000, 513) (1000,)\n"
     ]
    }
   ],
   "source": [
    "data = np.array(data)\n",
    "label = np.array(label)\n",
    "print(data.shape, label.shape)"
   ]
  },
  {
   "cell_type": "code",
   "execution_count": 5,
   "metadata": {},
   "outputs": [
    {
     "name": "stdout",
     "output_type": "stream",
     "text": [
      "(1000, 512) (1000,)\n"
     ]
    }
   ],
   "source": [
    "# Deleting first colum (Data serial)\n",
    "data = data[:, 1:]\n",
    "print(data.shape, label.shape)"
   ]
  },
  {
   "cell_type": "code",
   "execution_count": 10,
   "metadata": {},
   "outputs": [
    {
     "name": "stdout",
     "output_type": "stream",
     "text": [
      "(512,) (512,) (512,)\n"
     ]
    },
    {
     "name": "stderr",
     "output_type": "stream",
     "text": [
      "c:\\Users\\monki\\anaconda3\\envs\\tf-keras-2\\lib\\site-packages\\numpy\\core\\fromnumeric.py:88: RuntimeWarning: overflow encountered in reduce\n",
      "  return ufunc.reduce(obj, axis, dtype, out, **passkwargs)\n",
      "C:\\Users\\monki\\AppData\\Local\\Temp\\ipykernel_22980\\528384609.py:4: RuntimeWarning: divide by zero encountered in divide\n",
      "  disp_ratio = am/gm\n"
     ]
    }
   ],
   "source": [
    "# Applying Mean absolute difference\n",
    "am = np.mean(data, axis=0)\n",
    "gm = np.power(np.prod(data, axis=0), 1/len(data))\n",
    "disp_ratio = am/gm\n",
    "print(am.shape, gm.shape, disp_ratio.shape)"
   ]
  },
  {
   "cell_type": "code",
   "execution_count": 11,
   "metadata": {},
   "outputs": [
    {
     "data": {
      "image/png": "[encoded data removed]",
      "text/plain": [
       "<Figure size 1500x500 with 1 Axes>"
      ]
     },
     "metadata": {},
     "output_type": "display_data"
    }
   ],
   "source": [
    "import matplotlib.pyplot as plt\n",
    "\n",
    "plt.figure(figsize=(15,5))\n",
    "plt.plot()\n",
    "plt.style.use('_mpl-gallery')\n",
    "\n",
    "# make data:\n",
    "x = 0.5 + np.arange(len(disp_ratio))\n",
    "\n",
    "# plot\n",
    "# fig, ax = plt.subplots()\n",
    "\n",
    "plt.bar(x, disp_ratio[:], width=1, edgecolor=\"white\", linewidth=0.7)\n",
    "\n",
    "# ax.set(xlim=(0, 8), xticks=np.arange(1, 10),\n",
    "#        ylim=(0, 1), yticks=np.arange(1, 10))\n",
    "\n",
    "plt.show()"
   ]
  }
 ],
 "metadata": {
  "kernelspec": {
   "display_name": "tf-keras-2",
   "language": "python",
   "name": "python3"
  },
  "language_info": {
   "codemirror_mode": {
    "name": "ipython",
    "version": 3
   },
   "file_extension": ".py",
   "mimetype": "text/x-python",
   "name": "python",
   "nbconvert_exporter": "python",
   "pygments_lexer": "ipython3",
   "version": "3.9.16"
  }
 },
 "nbformat": 4,
 "nbformat_minor": 2
}
